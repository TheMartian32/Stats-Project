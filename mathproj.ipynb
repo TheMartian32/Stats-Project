{
 "cells": [
  {
   "cell_type": "markdown",
   "metadata": {},
   "source": [
    "# To run this, click on a cell, ( these boxes ) and press shift + enter to run them, after running them, you will usually see an output below the cell"
   ]
  },
  {
   "cell_type": "markdown",
   "metadata": {},
   "source": [
    "To restart the kernel, simply go to \"Kernel\" at the top semi-left of the page. It'll be next to two other options, \"Insert\" and \"Widgets\". Once you reach it, click on it, then click \"Restart\". After this you'll be fine and the actual code from the project will run without an issue. "
   ]
  },
  {
   "cell_type": "code",
   "execution_count": 1,
   "metadata": {},
   "outputs": [
    {
     "name": "stdout",
     "output_type": "stream",
     "text": [
      "Collecting seaborn\n",
      "  Downloading seaborn-0.11.2-py3-none-any.whl (292 kB)\n",
      "\u001b[K     |████████████████████████████████| 292 kB 14.9 MB/s eta 0:00:01\n",
      "\u001b[?25hRequirement already satisfied: numpy>=1.15 in /srv/conda/envs/notebook/lib/python3.6/site-packages (from seaborn) (1.19.5)\n",
      "Requirement already satisfied: pandas>=0.23 in /srv/conda/envs/notebook/lib/python3.6/site-packages (from seaborn) (1.1.5)\n",
      "Requirement already satisfied: scipy>=1.0 in /srv/conda/envs/notebook/lib/python3.6/site-packages (from seaborn) (1.5.3)\n",
      "Requirement already satisfied: matplotlib>=2.2 in /srv/conda/envs/notebook/lib/python3.6/site-packages (from seaborn) (3.3.4)\n",
      "Requirement already satisfied: cycler>=0.10 in /srv/conda/envs/notebook/lib/python3.6/site-packages/cycler-0.10.0-py3.6.egg (from matplotlib>=2.2->seaborn) (0.10.0)\n",
      "Requirement already satisfied: pillow>=6.2.0 in /srv/conda/envs/notebook/lib/python3.6/site-packages (from matplotlib>=2.2->seaborn) (8.3.2)\n",
      "Requirement already satisfied: kiwisolver>=1.0.1 in /srv/conda/envs/notebook/lib/python3.6/site-packages (from matplotlib>=2.2->seaborn) (1.3.1)\n",
      "Requirement already satisfied: python-dateutil>=2.1 in /srv/conda/envs/notebook/lib/python3.6/site-packages (from matplotlib>=2.2->seaborn) (2.8.2)\n",
      "Requirement already satisfied: pyparsing!=2.0.4,!=2.1.2,!=2.1.6,>=2.0.3 in /srv/conda/envs/notebook/lib/python3.6/site-packages (from matplotlib>=2.2->seaborn) (2.4.7)\n",
      "Requirement already satisfied: six in /srv/conda/envs/notebook/lib/python3.6/site-packages (from cycler>=0.10->matplotlib>=2.2->seaborn) (1.16.0)\n",
      "Requirement already satisfied: pytz>=2017.2 in /srv/conda/envs/notebook/lib/python3.6/site-packages (from pandas>=0.23->seaborn) (2021.3)\n",
      "Installing collected packages: seaborn\n",
      "Successfully installed seaborn-0.11.2\n",
      "Note: you may need to restart the kernel to use updated packages.\n"
     ]
    }
   ],
   "source": [
    "pip install seaborn"
   ]
  },
  {
   "cell_type": "code",
   "execution_count": 3,
   "metadata": {},
   "outputs": [
    {
     "name": "stdout",
     "output_type": "stream",
     "text": [
      "Measures of central tendency:\n",
      "Median: 6 \n",
      "Mean: 9.431372549019608 \n",
      "Mode: 1 \n",
      "Range: 67 \n",
      "Minimum: 0 \n",
      "Maximum: 67\n",
      "\n",
      "Five number summary ( Box and Whisker Plot Data ): \n",
      "Minimum of data: 0 \n",
      "Max of data: 67 \n",
      "Q1: 3 \n",
      "Q2: 9.6 \n",
      "Q3: 11 \n",
      "IQR: 8\n"
     ]
    },
    {
     "name": "stderr",
     "output_type": "stream",
     "text": [
      "/srv/conda/envs/notebook/lib/python3.6/site-packages/seaborn/_decorators.py:43: FutureWarning: Pass the following variable as a keyword arg: x. From version 0.12, the only valid positional argument will be `data`, and passing other arguments without an explicit keyword will result in an error or misinterpretation.\n",
      "  FutureWarning\n",
      "/srv/conda/envs/notebook/lib/python3.6/site-packages/seaborn/_decorators.py:43: FutureWarning: Pass the following variable as a keyword arg: x. From version 0.12, the only valid positional argument will be `data`, and passing other arguments without an explicit keyword will result in an error or misinterpretation.\n",
      "  FutureWarning\n"
     ]
    },
    {
     "data": {
      "image/png": "[encoded data removed]",
      "text/plain": [
       "<Figure size 720x252 with 3 Axes>"
      ]
     },
     "metadata": {},
     "output_type": "display_data"
    },
    {
     "data": {
      "text/plain": [
       "[6, 9.431372549019608, 1, 67, 67, 0]"
      ]
     },
     "execution_count": 3,
     "metadata": {},
     "output_type": "execute_result"
    }
   ],
   "source": [
    "\"\"\"\n",
    "By: Justin Buan, Algebra 1A Period 4\n",
    "\n",
    "Survey question: How many trees can you see from your front door?\n",
    "\"\"\"\n",
    "\n",
    "# Importing libraries\n",
    "import statistics as stats # for the actual calculations\n",
    "import matplotlib.pyplot as plt # compatability\n",
    "import seaborn as sns # plotting library\n",
    "\n",
    "\n",
    "# Data for project, e.g # of trees\n",
    "dataset = [0, 1,1, 1, 1, 1, 1, 1, 2, 2, 2, 3, 3, 4, 4, 4, 4, 4, 5, 5, 6, 6, 6, 6, 6, 6, 7,\n",
    "           7, 7, 7, 7, 8, 9, 9, 16, 16, 16, 17, 19, 19, 20, 20, 23, 27, 37, 67, 9, 2, 5, 10, 12]\n",
    "\n",
    "# Sorting the dataset so it goes from least to greatest\n",
    "dataset.sort()\n",
    "\n",
    "\n",
    "def stats_package(data: list):\n",
    "    \"\"\"\n",
    "    Takes in a list of data as a paramater, then calculates a series of statistics on it and makes a series of plots. In this case, it takes in a list of numbers from 0-67 and calculates several statistical characteristics of the data. \n",
    "    \"\"\"\n",
    "    # Finding the median\n",
    "    median = stats.median(data)\n",
    "\n",
    "    # Finding the mean\n",
    "    mean = stats.mean(data)\n",
    "\n",
    "    # Finding the mode\n",
    "    mode = stats.mode(data)\n",
    "\n",
    "    # Finding the range of the data by taking the maximum and subtracting it from the minimum\n",
    "    range_of_data = max(data) - min(data)\n",
    "\n",
    "    # Printing out the above values\n",
    "    print(\"Measures of central tendency:\")\n",
    "    print(f\"Median: {median} \\nMean: {mean} \\nMode: {mode} \\nRange: {range_of_data} \\nMinimum: {min(data)} \\nMaximum: {max(data)}\")\n",
    "\n",
    "    # Printing out the five number summary\n",
    "    print(\"\\nFive number summary ( Box and Whisker Plot Data ): \")\n",
    "    print(f\"Minimum of data: {min(data)} \\nMax of data: {max(data)} \\nQ1: 3 \\nQ2: 9.6 \\nQ3: 11 \\nIQR: 8\")\n",
    "\n",
    "    def plot_data():\n",
    "        \"\"\"\n",
    "        Nested function that takes the data and plots it. The plots incldue a Box and Whisker plot as per the requirements, a histogram, and lastly a strip plot, which resembles a scatterplot.\n",
    "        \"\"\"\n",
    "        # Creating the figure and the subplots for the plots ( a 1x3 figure. e.g 1 row, 3 columns )\n",
    "        fig, ax = plt.subplots(1, 3,figsize=(10, 3.5)) # Figure size in inches\n",
    "\n",
    "        \n",
    "\n",
    "        # Setting the style of the plots\n",
    "        sns.set(style=\"whitegrid\")\n",
    "\n",
    "\n",
    "        # Fitting the boxplot to figure size and its parameters\n",
    "        sns.boxplot(data, ax=ax[0], color=\"pink\", linewidth=2) \n",
    "\n",
    "        # Plotting the histogram and setting its parameters\n",
    "        sns.histplot(data, ax=ax[1], bins=45,\n",
    "                     color=\"orange\", kde=True, binwidth=2)\n",
    "        \n",
    "        # Setting the size of the points in the strip plot\n",
    "        ax[1].set_xlim(1, 35)\n",
    "        ax[1].set_xticks(range(1, 28, 2))\n",
    "\n",
    "        # Plotting the strip plot and setting its color\n",
    "        sns.stripplot(data, ax=ax[2], color=\"lightblue\")\n",
    "\n",
    "        # Showing the plot and squeezing the layout to fit the screen\n",
    "        plt.tight_layout()\n",
    "        plt.savefig(\"plots.png\")\n",
    "        plt.show()\n",
    "\n",
    "    # Calling the function to plot the data\n",
    "    plot_data()\n",
    "\n",
    "    # Returning the statistical characteristics of the data \n",
    "    return [median, mean, mode, range_of_data, max(data), min(data)]\n",
    "\n",
    "\n",
    "# Calling the function and passing in the data from the project to generate the plots and statistics.\n",
    "stats_package(dataset)\n"
   ]
  },
  {
   "cell_type": "code",
   "execution_count": null,
   "metadata": {},
   "outputs": [],
   "source": []
  }
 ],
 "metadata": {
  "kernelspec": {
   "display_name": "Python 3",
   "language": "python",
   "name": "python3"
  },
  "language_info": {
   "codemirror_mode": {
    "name": "ipython",
    "version": 3
   },
   "file_extension": ".py",
   "mimetype": "text/x-python",
   "name": "python",
   "nbconvert_exporter": "python",
   "pygments_lexer": "ipython3",
   "version": "3.6.13"
  }
 },
 "nbformat": 4,
 "nbformat_minor": 2
}
